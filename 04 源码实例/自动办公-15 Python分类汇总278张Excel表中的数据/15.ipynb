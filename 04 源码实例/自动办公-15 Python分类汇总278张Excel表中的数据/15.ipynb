{
 "cells": [
  {
   "cell_type": "markdown",
   "metadata": {},
   "source": [
    "去年共有278天领用了物料，记录在278张Excel表中。现在，老板想将所有物料按领用量从高到低排序，以便查看前10种领用最多的物料的情况。如果手工操作，需要把每张工作表的内容合并在一起，再用数据透视表来做。而对于这种重复操作，Phthon最擅长。我们可以用实例22 （https://zhuanlan.zhihu.com/p/140056868） 的方法用Python将所有工作表合在一起，再用数据透视表操作。但Python还有个功能强大的`pandas`(Python Data Analysis Library)库，专门用于做数据分析。它包含很多数据处理的函数和方法，可帮助我们快捷高效地处理数据。现在，我们就来演示如何用`pandas`统计一个Excel工作簿中278张表的数据并汇总，排序。我们先导入`pandas`库，为方便后续简化书写，大家都习惯于给它起个小名叫`pd`。"
   ]
  },
  {
   "cell_type": "code",
   "execution_count": 1,
   "metadata": {},
   "outputs": [],
   "source": [
    "import pandas as pd"
   ]
  },
  {
   "cell_type": "markdown",
   "metadata": {},
   "source": [
    "然后我们先用`pd.read_excel()`打开第一张工作表，试试水，打开后存入变量`df`。传入要打开的工作簿，即`'日领料单.xlsx'`。数据的字段名在第三行，指定`header=2`。因为header是用0表示第一行，所以第三行对应的索引为2。第一张表的名称叫`01-03`，所以指定参数`sheet_name = '01-03'`。打开后，用`df.head()`看一下效果，这个函数值看头几行数据，括号内不填具体数量，则默认头五行。相对应的，`df.tail()`则是看末尾5行。\n",
    "![](images\\header.png)"
   ]
  },
  {
   "cell_type": "code",
   "execution_count": 61,
   "metadata": {
    "scrolled": true
   },
   "outputs": [
    {
     "data": {
      "text/html": [
       "<div>\n",
       "<style scoped>\n",
       "    .dataframe tbody tr th:only-of-type {\n",
       "        vertical-align: middle;\n",
       "    }\n",
       "\n",
       "    .dataframe tbody tr th {\n",
       "        vertical-align: top;\n",
       "    }\n",
       "\n",
       "    .dataframe thead th {\n",
       "        text-align: right;\n",
       "    }\n",
       "</style>\n",
       "<table border=\"1\" class=\"dataframe\">\n",
       "  <thead>\n",
       "    <tr style=\"text-align: right;\">\n",
       "      <th></th>\n",
       "      <th>域</th>\n",
       "      <th>挑库单号</th>\n",
       "      <th>制造组</th>\n",
       "      <th>需求数量</th>\n",
       "      <th>工作订单编号</th>\n",
       "      <th>工作中心</th>\n",
       "      <th>状态</th>\n",
       "      <th>库位</th>\n",
       "      <th>单位</th>\n",
       "      <th>项次</th>\n",
       "      <th>物料编号</th>\n",
       "      <th>架位</th>\n",
       "      <th>批号</th>\n",
       "      <th>批号批数量</th>\n",
       "      <th>产品型号</th>\n",
       "      <th>物料描述</th>\n",
       "    </tr>\n",
       "  </thead>\n",
       "  <tbody>\n",
       "    <tr>\n",
       "      <th>0</th>\n",
       "      <td>AAA</td>\n",
       "      <td>377355.0</td>\n",
       "      <td>NaN</td>\n",
       "      <td>3.0</td>\n",
       "      <td>A19X9239156</td>\n",
       "      <td>QQ31</td>\n",
       "      <td>Complete</td>\n",
       "      <td>WH-B</td>\n",
       "      <td>EA</td>\n",
       "      <td>1.0</td>\n",
       "      <td>11010XR0073700</td>\n",
       "      <td>LC000001</td>\n",
       "      <td>PC00001</td>\n",
       "      <td>3.0</td>\n",
       "      <td>A00001</td>\n",
       "      <td>面壳</td>\n",
       "    </tr>\n",
       "    <tr>\n",
       "      <th>1</th>\n",
       "      <td>AAA</td>\n",
       "      <td>377355.0</td>\n",
       "      <td>NaN</td>\n",
       "      <td>10.0</td>\n",
       "      <td>A19X9239156</td>\n",
       "      <td>QQ31</td>\n",
       "      <td>Complete</td>\n",
       "      <td>WH-B</td>\n",
       "      <td>EA</td>\n",
       "      <td>2.0</td>\n",
       "      <td>11020XR0025500</td>\n",
       "      <td>LC000002</td>\n",
       "      <td>PC00002</td>\n",
       "      <td>10.0</td>\n",
       "      <td>A00002</td>\n",
       "      <td>底壳</td>\n",
       "    </tr>\n",
       "    <tr>\n",
       "      <th>2</th>\n",
       "      <td>AAA</td>\n",
       "      <td>377355.0</td>\n",
       "      <td>NaN</td>\n",
       "      <td>3.0</td>\n",
       "      <td>A19X9239156</td>\n",
       "      <td>QQ31</td>\n",
       "      <td>Complete</td>\n",
       "      <td>WH-B</td>\n",
       "      <td>EA</td>\n",
       "      <td>3.0</td>\n",
       "      <td>11030XR0013200</td>\n",
       "      <td>LC000003</td>\n",
       "      <td>PC00003</td>\n",
       "      <td>3.0</td>\n",
       "      <td>A00003</td>\n",
       "      <td>电池门</td>\n",
       "    </tr>\n",
       "    <tr>\n",
       "      <th>3</th>\n",
       "      <td>AAA</td>\n",
       "      <td>377355.0</td>\n",
       "      <td>NaN</td>\n",
       "      <td>3.0</td>\n",
       "      <td>A19X9239156</td>\n",
       "      <td>QQ31</td>\n",
       "      <td>Complete</td>\n",
       "      <td>WH-B</td>\n",
       "      <td>EA</td>\n",
       "      <td>4.0</td>\n",
       "      <td>11140XR0000100</td>\n",
       "      <td>LC000004</td>\n",
       "      <td>PC00004</td>\n",
       "      <td>3.0</td>\n",
       "      <td>A00004</td>\n",
       "      <td>底壳/后盖</td>\n",
       "    </tr>\n",
       "    <tr>\n",
       "      <th>4</th>\n",
       "      <td>AAA</td>\n",
       "      <td>377355.0</td>\n",
       "      <td>NaN</td>\n",
       "      <td>3.0</td>\n",
       "      <td>A19X9239156</td>\n",
       "      <td>QQ31</td>\n",
       "      <td>Complete</td>\n",
       "      <td>WH</td>\n",
       "      <td>EA</td>\n",
       "      <td>5.0</td>\n",
       "      <td>12121XR0172300</td>\n",
       "      <td>LC000005</td>\n",
       "      <td>PC00005</td>\n",
       "      <td>3.0</td>\n",
       "      <td>A00005</td>\n",
       "      <td>贴纸</td>\n",
       "    </tr>\n",
       "  </tbody>\n",
       "</table>\n",
       "</div>"
      ],
      "text/plain": [
       "     域      挑库单号  制造组  需求数量       工作订单编号  工作中心        状态    库位  单位   项次  \\\n",
       "0  AAA  377355.0  NaN   3.0  A19X9239156  QQ31  Complete  WH-B  EA  1.0   \n",
       "1  AAA  377355.0  NaN  10.0  A19X9239156  QQ31  Complete  WH-B  EA  2.0   \n",
       "2  AAA  377355.0  NaN   3.0  A19X9239156  QQ31  Complete  WH-B  EA  3.0   \n",
       "3  AAA  377355.0  NaN   3.0  A19X9239156  QQ31  Complete  WH-B  EA  4.0   \n",
       "4  AAA  377355.0  NaN   3.0  A19X9239156  QQ31  Complete    WH  EA  5.0   \n",
       "\n",
       "             物料编号        架位       批号  批号批数量    产品型号   物料描述  \n",
       "0  11010XR0073700  LC000001  PC00001    3.0  A00001     面壳  \n",
       "1  11020XR0025500  LC000002  PC00002   10.0  A00002     底壳  \n",
       "2  11030XR0013200  LC000003  PC00003    3.0  A00003    电池门  \n",
       "3  11140XR0000100  LC000004  PC00004    3.0  A00004  底壳/后盖  \n",
       "4  12121XR0172300  LC000005  PC00005    3.0  A00005     贴纸  "
      ]
     },
     "execution_count": 61,
     "metadata": {},
     "output_type": "execute_result"
    }
   ],
   "source": [
    "df = pd.read_excel('日领料单.xlsx' ,header=2, sheet_name = '01-03')\n",
    "df.head()"
   ]
  },
  {
   "cell_type": "markdown",
   "metadata": {},
   "source": [
    "数据显示与Excel表中完全一致，那就可以开始下一步了，即按照“物料编号”和“物料描述”字段将“批号批数量”加总。这里将使用到`groupby()`，它的作用是分组聚合，有点类似数据透视表中的“行”。此处我们按“物料编号”和“物料描述”分组聚合数据，并按“批号批数量”加总`['批号批数量'].sum()`。因为汇总数据后，行会减少(从191行减少到163行)，所以需要重设行编号`reset_index()`，按0~162重新编号。"
   ]
  },
  {
   "cell_type": "code",
   "execution_count": 66,
   "metadata": {
    "scrolled": true
   },
   "outputs": [
    {
     "data": {
      "text/html": [
       "<div>\n",
       "<style scoped>\n",
       "    .dataframe tbody tr th:only-of-type {\n",
       "        vertical-align: middle;\n",
       "    }\n",
       "\n",
       "    .dataframe tbody tr th {\n",
       "        vertical-align: top;\n",
       "    }\n",
       "\n",
       "    .dataframe thead th {\n",
       "        text-align: right;\n",
       "    }\n",
       "</style>\n",
       "<table border=\"1\" class=\"dataframe\">\n",
       "  <thead>\n",
       "    <tr style=\"text-align: right;\">\n",
       "      <th></th>\n",
       "      <th>物料编号</th>\n",
       "      <th>物料描述</th>\n",
       "      <th>批号批数量</th>\n",
       "    </tr>\n",
       "  </thead>\n",
       "  <tbody>\n",
       "    <tr>\n",
       "      <th>158</th>\n",
       "      <td>73009XR0000290</td>\n",
       "      <td>集成电路</td>\n",
       "      <td>110.0</td>\n",
       "    </tr>\n",
       "    <tr>\n",
       "      <th>159</th>\n",
       "      <td>73099XR0000580</td>\n",
       "      <td>集成电路</td>\n",
       "      <td>400.0</td>\n",
       "    </tr>\n",
       "    <tr>\n",
       "      <th>160</th>\n",
       "      <td>75008XR0000035</td>\n",
       "      <td>开关</td>\n",
       "      <td>120.0</td>\n",
       "    </tr>\n",
       "    <tr>\n",
       "      <th>161</th>\n",
       "      <td>75008XR0000043</td>\n",
       "      <td>开关</td>\n",
       "      <td>1200.0</td>\n",
       "    </tr>\n",
       "    <tr>\n",
       "      <th>162</th>\n",
       "      <td>77020XR0000013</td>\n",
       "      <td>话筒(麦克风)</td>\n",
       "      <td>110.0</td>\n",
       "    </tr>\n",
       "  </tbody>\n",
       "</table>\n",
       "</div>"
      ],
      "text/plain": [
       "               物料编号     物料描述   批号批数量\n",
       "158  73009XR0000290     集成电路   110.0\n",
       "159  73099XR0000580     集成电路   400.0\n",
       "160  75008XR0000035       开关   120.0\n",
       "161  75008XR0000043       开关  1200.0\n",
       "162  77020XR0000013  话筒(麦克风)   110.0"
      ]
     },
     "execution_count": 66,
     "metadata": {},
     "output_type": "execute_result"
    }
   ],
   "source": [
    "#按物料编号加总领料数量\n",
    "df_sum = df.groupby(['物料编号','物料描述'])['批号批数量'].sum().reset_index()\n",
    "df_sum.tail() #看尾部5行的数据"
   ]
  },
  {
   "cell_type": "markdown",
   "metadata": {},
   "source": [
    "然后我们用`sort_values()`排序，排序规则是从大到小`ascending = False`，并看前10项的数据`head(10)`。这个跟Excel中的数据透视表得到的结果完全一致。\n",
    "![](images\\pivot_table.png)"
   ]
  },
  {
   "cell_type": "code",
   "execution_count": 68,
   "metadata": {},
   "outputs": [
    {
     "data": {
      "text/html": [
       "<div>\n",
       "<style scoped>\n",
       "    .dataframe tbody tr th:only-of-type {\n",
       "        vertical-align: middle;\n",
       "    }\n",
       "\n",
       "    .dataframe tbody tr th {\n",
       "        vertical-align: top;\n",
       "    }\n",
       "\n",
       "    .dataframe thead th {\n",
       "        text-align: right;\n",
       "    }\n",
       "</style>\n",
       "<table border=\"1\" class=\"dataframe\">\n",
       "  <thead>\n",
       "    <tr style=\"text-align: right;\">\n",
       "      <th></th>\n",
       "      <th>物料编号</th>\n",
       "      <th>物料描述</th>\n",
       "      <th>批号批数量</th>\n",
       "    </tr>\n",
       "  </thead>\n",
       "  <tbody>\n",
       "    <tr>\n",
       "      <th>111</th>\n",
       "      <td>62010XR050150A</td>\n",
       "      <td>电容</td>\n",
       "      <td>1900.0</td>\n",
       "    </tr>\n",
       "    <tr>\n",
       "      <th>118</th>\n",
       "      <td>62011XR0501046</td>\n",
       "      <td>电容</td>\n",
       "      <td>1210.0</td>\n",
       "    </tr>\n",
       "    <tr>\n",
       "      <th>161</th>\n",
       "      <td>75008XR0000043</td>\n",
       "      <td>开关</td>\n",
       "      <td>1200.0</td>\n",
       "    </tr>\n",
       "    <tr>\n",
       "      <th>69</th>\n",
       "      <td>61010XR0000000</td>\n",
       "      <td>电阻</td>\n",
       "      <td>1000.0</td>\n",
       "    </tr>\n",
       "    <tr>\n",
       "      <th>96</th>\n",
       "      <td>62010XR0101044</td>\n",
       "      <td>电容</td>\n",
       "      <td>830.0</td>\n",
       "    </tr>\n",
       "    <tr>\n",
       "      <th>52</th>\n",
       "      <td>46000XR0420060</td>\n",
       "      <td>螺丝</td>\n",
       "      <td>570.0</td>\n",
       "    </tr>\n",
       "    <tr>\n",
       "      <th>130</th>\n",
       "      <td>63119XR0000160</td>\n",
       "      <td>二极管</td>\n",
       "      <td>540.0</td>\n",
       "    </tr>\n",
       "    <tr>\n",
       "      <th>122</th>\n",
       "      <td>62018XR0500101</td>\n",
       "      <td>电容</td>\n",
       "      <td>540.0</td>\n",
       "    </tr>\n",
       "    <tr>\n",
       "      <th>155</th>\n",
       "      <td>71311XR1320002</td>\n",
       "      <td>振荡器</td>\n",
       "      <td>490.0</td>\n",
       "    </tr>\n",
       "    <tr>\n",
       "      <th>81</th>\n",
       "      <td>61011XR1000000</td>\n",
       "      <td>电阻</td>\n",
       "      <td>450.0</td>\n",
       "    </tr>\n",
       "  </tbody>\n",
       "</table>\n",
       "</div>"
      ],
      "text/plain": [
       "               物料编号 物料描述   批号批数量\n",
       "111  62010XR050150A   电容  1900.0\n",
       "118  62011XR0501046   电容  1210.0\n",
       "161  75008XR0000043   开关  1200.0\n",
       "69   61010XR0000000   电阻  1000.0\n",
       "96   62010XR0101044   电容   830.0\n",
       "52   46000XR0420060   螺丝   570.0\n",
       "130  63119XR0000160  二极管   540.0\n",
       "122  62018XR0500101   电容   540.0\n",
       "155  71311XR1320002  振荡器   490.0\n",
       "81   61011XR1000000   电阻   450.0"
      ]
     },
     "execution_count": 68,
     "metadata": {},
     "output_type": "execute_result"
    }
   ],
   "source": [
    "df_sum.sort_values('批号批数量',ascending = False).head(10)"
   ]
  },
  {
   "cell_type": "markdown",
   "metadata": {},
   "source": [
    "以上，是对单个工作表的处理，下面我们用同样的方式遍历全部278张工作表，然后汇总数据。先新建一个空的数据框`result`，用于存储汇总所有工作表的结果。然后通过传入参数`sheet_name = None`（即不指定工作表，则全部读取），读取整个Excel文件中的所有工作表。然后按工作表名遍历所有工作表，分组聚合，加总“批号批数量”，将汇总后的数据框`df_sum`通过连接函数`concat`增加到`result`中。在此处，`concat`有点类似于列表中的`append`增加元素的功能，这里增加的是DataFrame。其作用的示意图如下。\n",
    "![](images\\concat.png)"
   ]
  },
  {
   "cell_type": "code",
   "execution_count": 74,
   "metadata": {
    "scrolled": true
   },
   "outputs": [
    {
     "data": {
      "text/html": [
       "<div>\n",
       "<style scoped>\n",
       "    .dataframe tbody tr th:only-of-type {\n",
       "        vertical-align: middle;\n",
       "    }\n",
       "\n",
       "    .dataframe tbody tr th {\n",
       "        vertical-align: top;\n",
       "    }\n",
       "\n",
       "    .dataframe thead th {\n",
       "        text-align: right;\n",
       "    }\n",
       "</style>\n",
       "<table border=\"1\" class=\"dataframe\">\n",
       "  <thead>\n",
       "    <tr style=\"text-align: right;\">\n",
       "      <th></th>\n",
       "      <th>物料编号</th>\n",
       "      <th>物料描述</th>\n",
       "      <th>批号批数量</th>\n",
       "    </tr>\n",
       "  </thead>\n",
       "  <tbody>\n",
       "    <tr>\n",
       "      <th>0</th>\n",
       "      <td>10010XR0239300</td>\n",
       "      <td>面壳</td>\n",
       "      <td>110.0</td>\n",
       "    </tr>\n",
       "    <tr>\n",
       "      <th>1</th>\n",
       "      <td>10010XR0244500</td>\n",
       "      <td>面壳</td>\n",
       "      <td>120.0</td>\n",
       "    </tr>\n",
       "    <tr>\n",
       "      <th>2</th>\n",
       "      <td>10011XR0214500</td>\n",
       "      <td>面壳</td>\n",
       "      <td>30.0</td>\n",
       "    </tr>\n",
       "    <tr>\n",
       "      <th>3</th>\n",
       "      <td>10020XR0157200</td>\n",
       "      <td>底壳</td>\n",
       "      <td>30.0</td>\n",
       "    </tr>\n",
       "    <tr>\n",
       "      <th>4</th>\n",
       "      <td>10020XR0174800</td>\n",
       "      <td>底壳</td>\n",
       "      <td>110.0</td>\n",
       "    </tr>\n",
       "  </tbody>\n",
       "</table>\n",
       "</div>"
      ],
      "text/plain": [
       "             物料编号 物料描述  批号批数量\n",
       "0  10010XR0239300   面壳  110.0\n",
       "1  10010XR0244500   面壳  120.0\n",
       "2  10011XR0214500   面壳   30.0\n",
       "3  10020XR0157200   底壳   30.0\n",
       "4  10020XR0174800   底壳  110.0"
      ]
     },
     "execution_count": 74,
     "metadata": {},
     "output_type": "execute_result"
    }
   ],
   "source": [
    "#新建一个DataFrame用于存储汇总所有工作表的结果\n",
    "result = pd.DataFrame()\n",
    "\n",
    "#读取整个Excel文件中的所有表\n",
    "df = pd.read_excel('日领料单.xlsx', header=2, sheet_name = None)\n",
    "#按表名遍历，处理数据\n",
    "for sheet_name in df.keys():    \n",
    "    #按物料编号加总领料数量\n",
    "    df_sum = df[sheet_name].groupby(['物料编号','物料描述'])['批号批数量'].sum().reset_index()    \n",
    "\n",
    "    result = pd.concat([result,df_sum])\n",
    "    \n",
    "result.head()"
   ]
  },
  {
   "cell_type": "markdown",
   "metadata": {},
   "source": [
    "以上，`df.keys()`存有所有工作表名，共278个。通过`for`循环逐个从其中取出名字，然后通过名字读取数据及汇总。"
   ]
  },
  {
   "cell_type": "code",
   "execution_count": 78,
   "metadata": {
    "scrolled": true
   },
   "outputs": [
    {
     "data": {
      "text/plain": [
       "odict_keys(['01-03', '01-04', '01-05', '01-07', '01-08', '01-09', '01-10', '01-11', '01-12', '01-14', '01-15', '01-16', '01-17', '01-18', '01-19', '01-21', '01-22', '01-23', '01-24', '01-25', '01-26', '01-28', '01-29', '01-30', '02-12', '02-13', '02-14', '02-15', '02-16', '02-18', '02-19', '02-20', '02-21', '02-22', '02-23', '02-25', '02-26', '02-27', '02-28', '03-04', '03-05', '03-06', '03-07', '03-10', '03-11', '03-12', '03-13', '03-14', '03-15', '03-16', '03-18', '03-19', '03-20', '03-21', '03-22', '03-23', '03-24', '03-25', '03-26', '03-27', '03-28', '03-29', '03-30', '04-02', '04-03', '04-04', '04-06', '04-09', '04-10', '04-11', '04-12', '04-13', '04-14', '04-15', '04-16', '04-17', '04-18', '04-19', '04-20', '04-21', '04-22', '04-23', '04-24', '04-25', '04-26', '04-27', '04-29', '04-30', '05-03', '05-04', '05-06', '05-07', '05-08', '05-09', '05-10', '05-11', '05-13', '05-14', '05-15', '05-16', '05-17', '05-20', '05-21', '05-22', '05-23', '05-24', '05-25', '05-27', '05-28', '05-29', '05-30', '05-31', '06-03', '06-04', '06-05', '06-06', '06-09', '06-10', '06-11', '06-12', '06-13', '06-14', '06-17', '06-18', '06-19', '06-20', '06-21', '06-22', '06-24', '06-25', '06-26', '06-27', '06-28', '07-01', '07-02', '07-03', '07-04', '07-05', '07-06', '07-07', '07-08', '07-09', '07-10', '07-11', '07-12', '07-15', '07-16', '07-17', '07-19', '07-22', '07-23', '07-24', '07-25', '07-26', '07-27', '07-29', '07-30', '07-31', '08-01', '08-02', '08-05', '08-06', '08-07', '08-08', '08-09', '08-10', '08-12', '08-13', '08-14', '08-15', '08-16', '08-17', '08-19', '08-20', '08-21', '08-22', '08-23', '08-24', '08-26', '08-27', '08-28', '08-29', '08-30', '08-31', '09-02', '09-03', '09-04', '09-05', '09-06', '09-07', '09-09', '09-10', '09-11', '09-12', '09-15', '09-16', '09-17', '09-19', '09-20', '09-21', '09-23', '09-24', '09-25', '09-26', '09-27', '09-28', '09-29', '10-05', '10-06', '10-08', '10-09', '10-10', '10-11', '10-12', '10-14', '10-15', '10-16', '10-17', '10-18', '10-21', '10-22', '10-23', '10-24', '10-25', '10-26', '10-28', '10-29', '10-30', '10-31', '11-01', '11-02', '11-04', '11-05', '11-06', '11-07', '11-08', '11-09', '11-11', '11-12', '11-13', '11-14', '11-15', '11-16', '11-18', '11-19', '11-20', '11-21', '11-22', '11-23', '11-25', '11-26', '11-27', '11-28', '11-29', '11-30', '12-02', '12-03', '12-04', '12-05', '12-06', '12-07', '12-09', '12-10', '12-11', '12-12', '12-13', '12-14', '12-16', '12-17', '12-18', '12-19', '12-20', '12-21', '12-23', '12-24', '12-25', '12-26', '12-28'])"
      ]
     },
     "execution_count": 78,
     "metadata": {},
     "output_type": "execute_result"
    }
   ],
   "source": [
    "df.keys()"
   ]
  },
  {
   "cell_type": "markdown",
   "metadata": {},
   "source": [
    "数据汇总在一起后，需要再最后分类汇总一下（因为每天领取的物料是有重复的，需要将相同物料编号对应的数量加总），并降序排序。最终得到领用量最多的10个物料。"
   ]
  },
  {
   "cell_type": "code",
   "execution_count": 72,
   "metadata": {
    "scrolled": false
   },
   "outputs": [
    {
     "data": {
      "text/html": [
       "<div>\n",
       "<style scoped>\n",
       "    .dataframe tbody tr th:only-of-type {\n",
       "        vertical-align: middle;\n",
       "    }\n",
       "\n",
       "    .dataframe tbody tr th {\n",
       "        vertical-align: top;\n",
       "    }\n",
       "\n",
       "    .dataframe thead th {\n",
       "        text-align: right;\n",
       "    }\n",
       "</style>\n",
       "<table border=\"1\" class=\"dataframe\">\n",
       "  <thead>\n",
       "    <tr style=\"text-align: right;\">\n",
       "      <th></th>\n",
       "      <th>物料编号</th>\n",
       "      <th>物料描述</th>\n",
       "      <th>批号批数量</th>\n",
       "    </tr>\n",
       "  </thead>\n",
       "  <tbody>\n",
       "    <tr>\n",
       "      <th>2798</th>\n",
       "      <td>61010XR0000000</td>\n",
       "      <td>电阻</td>\n",
       "      <td>116335.0</td>\n",
       "    </tr>\n",
       "    <tr>\n",
       "      <th>3793</th>\n",
       "      <td>63563XR0000030</td>\n",
       "      <td>二极管</td>\n",
       "      <td>84377.0</td>\n",
       "    </tr>\n",
       "    <tr>\n",
       "      <th>2871</th>\n",
       "      <td>61010XR1100300</td>\n",
       "      <td>电阻</td>\n",
       "      <td>78209.0</td>\n",
       "    </tr>\n",
       "    <tr>\n",
       "      <th>2802</th>\n",
       "      <td>61010XR0010300</td>\n",
       "      <td>电阻</td>\n",
       "      <td>74348.0</td>\n",
       "    </tr>\n",
       "    <tr>\n",
       "      <th>1656</th>\n",
       "      <td>46000XR0420060</td>\n",
       "      <td>螺丝</td>\n",
       "      <td>57609.0</td>\n",
       "    </tr>\n",
       "    <tr>\n",
       "      <th>3203</th>\n",
       "      <td>62010XR0101056</td>\n",
       "      <td>电容</td>\n",
       "      <td>56875.0</td>\n",
       "    </tr>\n",
       "    <tr>\n",
       "      <th>2901</th>\n",
       "      <td>61010XR1220202</td>\n",
       "      <td>电阻</td>\n",
       "      <td>51675.0</td>\n",
       "    </tr>\n",
       "    <tr>\n",
       "      <th>2818</th>\n",
       "      <td>61010XR0047000</td>\n",
       "      <td>电阻</td>\n",
       "      <td>51336.0</td>\n",
       "    </tr>\n",
       "    <tr>\n",
       "      <th>3224</th>\n",
       "      <td>62010XR0161048</td>\n",
       "      <td>电容</td>\n",
       "      <td>50766.0</td>\n",
       "    </tr>\n",
       "    <tr>\n",
       "      <th>3023</th>\n",
       "      <td>61011XR1000000</td>\n",
       "      <td>电阻</td>\n",
       "      <td>47425.0</td>\n",
       "    </tr>\n",
       "  </tbody>\n",
       "</table>\n",
       "</div>"
      ],
      "text/plain": [
       "                物料编号 物料描述     批号批数量\n",
       "2798  61010XR0000000   电阻  116335.0\n",
       "3793  63563XR0000030  二极管   84377.0\n",
       "2871  61010XR1100300   电阻   78209.0\n",
       "2802  61010XR0010300   电阻   74348.0\n",
       "1656  46000XR0420060   螺丝   57609.0\n",
       "3203  62010XR0101056   电容   56875.0\n",
       "2901  61010XR1220202   电阻   51675.0\n",
       "2818  61010XR0047000   电阻   51336.0\n",
       "3224  62010XR0161048   电容   50766.0\n",
       "3023  61011XR1000000   电阻   47425.0"
      ]
     },
     "execution_count": 72,
     "metadata": {},
     "output_type": "execute_result"
    }
   ],
   "source": [
    "final = result.groupby(['物料编号','物料描述'])['批号批数量'].sum().reset_index().sort_values('批号批数量',ascending = False)\n",
    "final.head(10)"
   ]
  },
  {
   "cell_type": "markdown",
   "metadata": {},
   "source": [
    "我们还可以将最终结果保存为Excel文件，以便在Excel中操作。"
   ]
  },
  {
   "cell_type": "code",
   "execution_count": 59,
   "metadata": {},
   "outputs": [],
   "source": [
    "final.to_excel(\"汇总.xlsx\")"
   ]
  }
 ],
 "metadata": {
  "kernelspec": {
   "display_name": "Python 3",
   "language": "python",
   "name": "python3"
  },
  "language_info": {
   "codemirror_mode": {
    "name": "ipython",
    "version": 3
   },
   "file_extension": ".py",
   "mimetype": "text/x-python",
   "name": "python",
   "nbconvert_exporter": "python",
   "pygments_lexer": "ipython3",
   "version": "3.6.5"
  }
 },
 "nbformat": 4,
 "nbformat_minor": 2
}
