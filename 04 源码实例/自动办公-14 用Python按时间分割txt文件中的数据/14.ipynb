{
 "cells": [
  {
   "cell_type": "markdown",
   "metadata": {},
   "source": [
    "有一个监测系统，每隔两分钟就会记录一下监测结果，如下图所示：\n",
    "![](images\\data.png)\n",
    "现在要求按小时将数据提取，并存为新的txt文件，也就是1天会对应有24个txt文件。先整理一下思路：\n",
    "1. 读取数据\n",
    "2. 将每行数据的时间戳转换成“日期-小时”格式，并按此分类数据，存入字典\n",
    "3. 按“日期-小时”分断，将写入数据到新的txt文件"
   ]
  },
  {
   "cell_type": "markdown",
   "metadata": {},
   "source": [
    "使用`readlines()`将txt中的每一行数据读取为一个长字符串，并存入列表。数据读取如下所示。"
   ]
  },
  {
   "cell_type": "code",
   "execution_count": 30,
   "metadata": {
    "scrolled": false
   },
   "outputs": [
    {
     "data": {
      "text/plain": [
       "['1111 0003134d553098suehrj09808 1480581236 0 2341111 45678901 654 1 1 8800000 99900000 3,2 我是谁，我从哪来，到哪去，思考，\\n',\n",
       " '1111 0003134d553098suehrj09808 1480581356 0 2341111 45678901 654 1 1 8800000 99900000 3,2 我是谁，我从哪来，到哪去，思考，\\n',\n",
       " '1111 0003134d553098suehrj09808 1480580274 0 2341111 45678901 654 1 1 8800000 99900000 3,2 我是谁，我从哪来，到哪去，思考，\\n',\n",
       " '1111 0003134d553098suehrj09808 1480581115 0 2341111 45678901 654 1 1 8800000 99900000 3,2 我是谁，我从哪来，到哪去，思考，\\n',\n",
       " '1111 0003134d553098suehrj09808 1480580995 0 2341111 45678901 654 1 1 8800000 99900000 3,2 我是谁，我从哪来，到哪去，思考，\\n']"
      ]
     },
     "execution_count": 30,
     "metadata": {},
     "output_type": "execute_result"
    }
   ],
   "source": [
    "#读取txt文件中的数据\n",
    "file = open('data.txt')\n",
    "lines = file.readlines()\n",
    "lines[:5]"
   ]
  },
  {
   "cell_type": "markdown",
   "metadata": {},
   "source": [
    "然后定义一个将时间戳转换成“日期 时间”格式的函数，以便后续调用。先导入`time, datetime`模块。`time.localtime`用于将时间戳格式化为本地时间，这样就获得一个时间序列（比如如下打印结果）。然后用`time.strftime`从时间序列中提取出我们设定的格式。此处设定的格式为`%Y-%m-%d %H`，对应年，月，日和小时。尝试调用了一下函数`timeStampToDate(1480581236)`，结果`'2016-12-01 16'`符合我们的要求。"
   ]
  },
  {
   "cell_type": "code",
   "execution_count": 31,
   "metadata": {
    "scrolled": true
   },
   "outputs": [
    {
     "name": "stdout",
     "output_type": "stream",
     "text": [
      "转换后的时间序列如下:\n",
      "\n",
      "time.struct_time(tm_year=2016, tm_mon=12, tm_mday=1, tm_hour=16, tm_min=33, tm_sec=56, tm_wday=3, tm_yday=336, tm_isdst=0)\n"
     ]
    },
    {
     "data": {
      "text/plain": [
       "'2016-12-01 16'"
      ]
     },
     "execution_count": 31,
     "metadata": {},
     "output_type": "execute_result"
    }
   ],
   "source": [
    "import time, datetime\n",
    "def timeStampToDate(timeStamp):\n",
    "    timeArray = time.localtime(timeStamp)\n",
    "    return time.strftime(\"%Y-%m-%d %H\", timeArray)\n",
    "\n",
    "print(\"转换后的时间序列如下:\\n\")\n",
    "timeStamp = 1480581236\n",
    "timeArray = time.localtime(timeStamp)\n",
    "timeArray = print(timeArray)\n",
    "timeStampToDate(1480581236)"
   ]
  },
  {
   "cell_type": "markdown",
   "metadata": {},
   "source": [
    "然后按“日期 小时”格式提取数据，并存入字典`data`。比如将时间是这个`2016-12-01 16`的所有数据都集中存放。此处，我们按`2016-12-01 16`为字典的键，这个时间对应的所有行都作为列表存为它的值。由于从txt文件中读取的数据是一行对应一个字符串，所以需要先分割。在txt文件中，各字段是按空格分隔的，所以此处也以空格分割，即`split(\" \")`。然后调用时间戳转换函数`timeStampToDate()`将列表`row_data`中的第三个数据（时间戳）转换成设定的日期-时间格式。随后将获取到的“日期-时间”设定为字典中的键的默认值，其值为一个空列表。这样才能保证后续获取到的相同“日期-时间”的数据都集中到它的麾下。数据获取完后用`data`查看一下数据，显示正常。"
   ]
  },
  {
   "cell_type": "code",
   "execution_count": 32,
   "metadata": {},
   "outputs": [
    {
     "data": {
      "text/plain": [
       "{'2016-12-01 16': [['1111',\n",
       "   '0003134d553098suehrj09808',\n",
       "   '1480581236',\n",
       "   '0',\n",
       "   '2341111',\n",
       "   '45678901',\n",
       "   '654',\n",
       "   '1',\n",
       "   '1',\n",
       "   '8800000',\n",
       "   '99900000',\n",
       "   '3,2',\n",
       "   '我是谁，我从哪来，到哪去，思考，\\n'],\n",
       "  ['1111',\n",
       "   '0003134d553098suehrj09808',\n",
       "   '1480581356',\n",
       "   '0',\n",
       "   '2341111',\n",
       "   '45678901',\n",
       "   '654',\n",
       "   '1',\n",
       "   '1',\n",
       "   '8800000',\n",
       "   '99900000',\n",
       "   '3,2',\n",
       "   '我是谁，我从哪来，到哪去，思考，\\n'],\n",
       "  ['1111',\n",
       "   '0003134d553098suehrj09808',\n",
       "   '1480580274',\n",
       "   '0',\n",
       "   '2341111',\n",
       "   '45678901',\n",
       "   '654',\n",
       "   '1',\n",
       "   '1',\n",
       "   '8800000',\n",
       "   '99900000',\n",
       "   '3,2',\n",
       "   '我是谁，我从哪来，到哪去，思考，\\n'],\n",
       "  ['1111',\n",
       "   '0003134d553098suehrj09808',\n",
       "   '1480581115',\n",
       "   '0',\n",
       "   '2341111',\n",
       "   '45678901',\n",
       "   '654',\n",
       "   '1',\n",
       "   '1',\n",
       "   '8800000',\n",
       "   '99900000',\n",
       "   '3,2',\n",
       "   '我是谁，我从哪来，到哪去，思考，\\n'],\n",
       "  ['1111',\n",
       "   '0003134d553098suehrj09808',\n",
       "   '1480580995',\n",
       "   '0',\n",
       "   '2341111',\n",
       "   '45678901',\n",
       "   '654',\n",
       "   '1',\n",
       "   '1',\n",
       "   '8800000',\n",
       "   '99900000',\n",
       "   '3,2',\n",
       "   '我是谁，我从哪来，到哪去，思考，\\n']],\n",
       " '2016-12-01 17': [['1111',\n",
       "   '0003134d553098suehrj09808',\n",
       "   '1480584995',\n",
       "   '0',\n",
       "   '2341111',\n",
       "   '45678901',\n",
       "   '654',\n",
       "   '1',\n",
       "   '1',\n",
       "   '8800000',\n",
       "   '99900000',\n",
       "   '3,2',\n",
       "   '我是谁，我从哪来，到哪去，欢呼，\\n'],\n",
       "  ['1111',\n",
       "   '0003134d553098suehrj09808',\n",
       "   '1480585005',\n",
       "   '0',\n",
       "   '2341111',\n",
       "   '45678901',\n",
       "   '654',\n",
       "   '1',\n",
       "   '1',\n",
       "   '8800000',\n",
       "   '99900000',\n",
       "   '3,2',\n",
       "   '我是谁，我从哪来，到哪去，欢呼，\\n']],\n",
       " '2016-12-01 18': [['1111',\n",
       "   '0003134d553098suehrj09808',\n",
       "   '1480587995',\n",
       "   '0',\n",
       "   '2341111',\n",
       "   '45678901',\n",
       "   '654',\n",
       "   '1',\n",
       "   '1',\n",
       "   '8800000',\n",
       "   '99900000',\n",
       "   '3,2',\n",
       "   '我是谁，我从哪来，到哪去，跳跃，\\n']],\n",
       " '2016-12-01 19': [['1111',\n",
       "   '0003134d553098suehrj09808',\n",
       "   '1480590005',\n",
       "   '0',\n",
       "   '2341111',\n",
       "   '45678901',\n",
       "   '654',\n",
       "   '1',\n",
       "   '1',\n",
       "   '8800000',\n",
       "   '99900000',\n",
       "   '3,2',\n",
       "   '我是谁，我从哪来，到哪去，飞翔，']]}"
      ]
     },
     "execution_count": 32,
     "metadata": {},
     "output_type": "execute_result"
    }
   ],
   "source": [
    "#按日期-小时提取数据，并存入字典\n",
    "data = {}\n",
    "for line in lines:\n",
    "    row_data =line.split(\" \") #将一行数据按空格分隔\n",
    "    date_hour = timeStampToDate(int(row_data[2])) #将第三个数据（时间戳）转换成设定的日期-时间格式\n",
    "    data.setdefault(date_hour,[]) #以日期-时间为键，相同日期-时间的数据存为它的值\n",
    "    data[date_hour].append(row_data) #数据存入data字典\n",
    "    \n",
    "data"
   ]
  },
  {
   "cell_type": "markdown",
   "metadata": {},
   "source": [
    "然后就准备写入数据了。由于需要写入N次，还是建立一个函数，重复调用比较方便。需要给函数传入两个参数，一个是文件名，另一个是包含数据的列表。文件名直接使用字典`data`的键，也就是要求的“日期 时间”，比如`2016-12-01 16`。`+ '.txt'`用于手动加上后缀。`a`表示添加模式，不会影响已写入的数据。由于传入的列表是个双层嵌套列表，所以需要遍历两次，才能提取到最终的数据。提取到数据后，为避免各个数据挨在一起，需要在每个数据之间插入空格。但每行最后一个数据不用插入了，因为最后一个数据带了换行符`\\n`，加上空格，就会导致下一行的数据前面都有一个空格。因此如下程序用`if`语句做了限制，只有当元素不是最后一个元素，才在后面插入空格。"
   ]
  },
  {
   "cell_type": "code",
   "execution_count": 33,
   "metadata": {},
   "outputs": [],
   "source": [
    "#写入数据函数\n",
    "def To_txt(filename, data):#filename为写入文件的路径，data为要写入数据列表.\n",
    "    file = open(filename + '.txt','a')\n",
    "    for i in range(len(data)):\n",
    "        for j in range(len(data[i])):\n",
    "            text = data[i][j]\n",
    "            if j != len(data[i])-1: #判断是否最后一个元素\n",
    "                text = text+' '   #若不是最后一个元素才加空格\n",
    "            file.write(text)\n",
    "    file.close()"
   ]
  },
  {
   "cell_type": "markdown",
   "metadata": {},
   "source": [
    "写入函数写好后，就可以批量写入数据了。遍历字典`data`的所有键，调用写入函数写入即可。结果如下。\n",
    "![](images\\result1.png)\n",
    "![](images\\result2.png)"
   ]
  },
  {
   "cell_type": "code",
   "execution_count": 34,
   "metadata": {},
   "outputs": [
    {
     "name": "stdout",
     "output_type": "stream",
     "text": [
      "2016-12-01 16\n",
      "2016-12-01 17\n",
      "2016-12-01 18\n",
      "2016-12-01 19\n"
     ]
    }
   ],
   "source": [
    "#批量写入数据\n",
    "for i in data:\n",
    "    print(i)\n",
    "    To_txt(i, data[i])"
   ]
  }
 ],
 "metadata": {
  "kernelspec": {
   "display_name": "Python 3",
   "language": "python",
   "name": "python3"
  },
  "language_info": {
   "codemirror_mode": {
    "name": "ipython",
    "version": 3
   },
   "file_extension": ".py",
   "mimetype": "text/x-python",
   "name": "python",
   "nbconvert_exporter": "python",
   "pygments_lexer": "ipython3",
   "version": "3.6.5"
  }
 },
 "nbformat": 4,
 "nbformat_minor": 1
}
