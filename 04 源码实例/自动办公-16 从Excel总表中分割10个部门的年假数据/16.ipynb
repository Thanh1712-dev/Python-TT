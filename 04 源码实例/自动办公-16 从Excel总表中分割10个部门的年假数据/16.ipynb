{
 "cells": [
  {
   "cell_type": "markdown",
   "metadata": {},
   "source": [
    "公司人事系统比较原始，无法让各部门自行查询年假使用情况。落后就要挨打，人事妹子只有花时间每个月从系统导出然后按部分区分，再发给部门经理和文员。虽然系统破旧，但这个按部门筛选和邮件发送还是可以让Python代劳，这样每个月要做的就是导出总表，然后运行一下Python程序，自动按部门生成新的子Excel表格，并自动发给相关部门。比起纯手工，还是省事不少啊。总表如下。\n",
    "![](images\\sum.png)"
   ]
  },
  {
   "cell_type": "code",
   "execution_count": 1,
   "metadata": {
    "scrolled": true
   },
   "outputs": [
    {
     "data": {
      "text/html": [
       "<div>\n",
       "<style scoped>\n",
       "    .dataframe tbody tr th:only-of-type {\n",
       "        vertical-align: middle;\n",
       "    }\n",
       "\n",
       "    .dataframe tbody tr th {\n",
       "        vertical-align: top;\n",
       "    }\n",
       "\n",
       "    .dataframe thead th {\n",
       "        text-align: right;\n",
       "    }\n",
       "</style>\n",
       "<table border=\"1\" class=\"dataframe\">\n",
       "  <thead>\n",
       "    <tr style=\"text-align: right;\">\n",
       "      <th></th>\n",
       "      <th>工号</th>\n",
       "      <th>姓名</th>\n",
       "      <th>部门</th>\n",
       "      <th>法定年假时数(H)</th>\n",
       "      <th>已休年假（H)</th>\n",
       "      <th>待休年假(H)</th>\n",
       "    </tr>\n",
       "  </thead>\n",
       "  <tbody>\n",
       "    <tr>\n",
       "      <th>0</th>\n",
       "      <td>A00001</td>\n",
       "      <td>张一</td>\n",
       "      <td>工程部</td>\n",
       "      <td>40</td>\n",
       "      <td>29</td>\n",
       "      <td>11</td>\n",
       "    </tr>\n",
       "    <tr>\n",
       "      <th>1</th>\n",
       "      <td>A00002</td>\n",
       "      <td>张二</td>\n",
       "      <td>生产部</td>\n",
       "      <td>40</td>\n",
       "      <td>24</td>\n",
       "      <td>16</td>\n",
       "    </tr>\n",
       "    <tr>\n",
       "      <th>2</th>\n",
       "      <td>A00003</td>\n",
       "      <td>张三</td>\n",
       "      <td>人事部</td>\n",
       "      <td>40</td>\n",
       "      <td>0</td>\n",
       "      <td>40</td>\n",
       "    </tr>\n",
       "    <tr>\n",
       "      <th>3</th>\n",
       "      <td>A00004</td>\n",
       "      <td>张四</td>\n",
       "      <td>总务部</td>\n",
       "      <td>60</td>\n",
       "      <td>14</td>\n",
       "      <td>46</td>\n",
       "    </tr>\n",
       "    <tr>\n",
       "      <th>4</th>\n",
       "      <td>A00005</td>\n",
       "      <td>张五</td>\n",
       "      <td>船务部</td>\n",
       "      <td>40</td>\n",
       "      <td>12</td>\n",
       "      <td>28</td>\n",
       "    </tr>\n",
       "  </tbody>\n",
       "</table>\n",
       "</div>"
      ],
      "text/plain": [
       "       工号  姓名   部门  法定年假时数(H)  已休年假（H)  待休年假(H)\n",
       "0  A00001  张一  工程部         40       29       11\n",
       "1  A00002  张二  生产部         40       24       16\n",
       "2  A00003  张三  人事部         40        0       40\n",
       "3  A00004  张四  总务部         60       14       46\n",
       "4  A00005  张五  船务部         40       12       28"
      ]
     },
     "execution_count": 1,
     "metadata": {},
     "output_type": "execute_result"
    }
   ],
   "source": [
    "import pandas as pd\n",
    "df = pd.read_excel(\"年假情况.xlsx\")\n",
    "df.head()"
   ]
  },
  {
   "cell_type": "markdown",
   "metadata": {},
   "source": [
    "首先导入`pandas`库。然后使用`pd.read_excel`读取Excel文件，可直接将Excel文件读取为一个数据框(DataFrame)。可以理解数据框就是一张Excel表，请看上图，是不是很像我们常用的Excel表格呢？我们用`df.head()`看一下它的前5行，以便观察是否有正确读取。"
   ]
  },
  {
   "cell_type": "markdown",
   "metadata": {},
   "source": [
    "然后按不同的部门来将这些数据拆分成不同的表格并单独保存，以便通过邮件的方式发出。"
   ]
  },
  {
   "cell_type": "code",
   "execution_count": 3,
   "metadata": {
    "scrolled": true
   },
   "outputs": [
    {
     "name": "stdout",
     "output_type": "stream",
     "text": [
      "完成！\n"
     ]
    }
   ],
   "source": [
    "#拆分Excel表，并单独保存\n",
    "depts = df[\"部门\"].unique()\n",
    "for dept in depts:\n",
    "    df[df[\"部门\"]==dept].to_excel(\"年假_按部门\\年假情况_{}.xlsx\".format(dept),index=False)"
   ]
  },
  {
   "cell_type": "markdown",
   "metadata": {},
   "source": [
    "因为在总表中，每个部门有很多员工，因此部门的名字是重复的，我们只需要获得所有部门的名称一次就够了，`unique()`就可以实现。`df[\"部门\"].unique()`可以理解为，从工作表中选取列名为“部门”的列，然后每个部门只取一次，然后存入depts这个数组。"
   ]
  },
  {
   "cell_type": "code",
   "execution_count": 4,
   "metadata": {
    "scrolled": false
   },
   "outputs": [
    {
     "data": {
      "text/plain": [
       "array(['工程部', '生产部', '人事部', '总务部', '船务部', '关务部', '品质部', '物料部', '研发部',\n",
       "       '采购部'], dtype=object)"
      ]
     },
     "execution_count": 4,
     "metadata": {},
     "output_type": "execute_result"
    }
   ],
   "source": [
    "depts"
   ]
  },
  {
   "cell_type": "markdown",
   "metadata": {},
   "source": [
    "然后我们将部门的名称逐个传入数据表，并逐个保存成新的Excel文件。`df.to_excel()`可实现将数据框存储为Excel文件。括号内的参数为需要存入的路径和文件名，此处我们希望把部门的名字放在文件名里面以便区分，所以使用格式化字符串函数`.format`将部门的名称传入文件名。我们不想在Excel中显示数据框的索引，因此`index`设为`False`。分拆后的Excel表如下图所示，分拆成功。\n",
    "![](images\\result.png)\n",
    "然后，就可以写一个自动发送邮件的程序，实现一键精准投递年假信息给各部门了。自动发送邮件，后续再来探讨把，敬请期待。"
   ]
  }
 ],
 "metadata": {
  "kernelspec": {
   "display_name": "Python 3",
   "language": "python",
   "name": "python3"
  },
  "language_info": {
   "codemirror_mode": {
    "name": "ipython",
    "version": 3
   },
   "file_extension": ".py",
   "mimetype": "text/x-python",
   "name": "python",
   "nbconvert_exporter": "python",
   "pygments_lexer": "ipython3",
   "version": "3.6.5"
  }
 },
 "nbformat": 4,
 "nbformat_minor": 1
}
